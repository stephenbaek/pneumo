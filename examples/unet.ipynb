{
 "cells": [
  {
   "source": [
    "# Simple U-Net Demo"
   ],
   "cell_type": "markdown",
   "metadata": {}
  },
  {
   "source": [
    "### Configurations"
   ],
   "cell_type": "markdown",
   "metadata": {}
  },
  {
   "cell_type": "code",
   "execution_count": null,
   "metadata": {},
   "outputs": [],
   "source": [
    "IMAGE_SIZE = 640\n",
    "BATCH_SIZE = 1"
   ]
  },
  {
   "source": [
    "### Import Dependencies & Initialization"
   ],
   "cell_type": "markdown",
   "metadata": {}
  },
  {
   "cell_type": "code",
   "execution_count": null,
   "metadata": {},
   "outputs": [],
   "source": [
    "import os\n",
    "os.chdir('..')   # change the directory from 'examples' to root\n",
    "\n",
    "import numpy as np\n",
    "import tensorflow as tf\n",
    "from IPython.display import clear_output\n",
    "\n",
    "import pneumo"
   ]
  },
  {
   "source": [
    "### Load Kaggle 'SIIM-ACR Pneumothorax Segmentation Challenge' dataset\n",
    "https://www.kaggle.com/c/siim-acr-pneumothorax-segmentation"
   ],
   "cell_type": "markdown",
   "metadata": {}
  },
  {
   "cell_type": "code",
   "execution_count": null,
   "metadata": {},
   "outputs": [],
   "source": [
    "ds = pneumo.data.load_siim('data/siim-acr')"
   ]
  },
  {
   "source": [
    "### Train-test split"
   ],
   "cell_type": "markdown",
   "metadata": {}
  },
  {
   "cell_type": "code",
   "execution_count": null,
   "metadata": {},
   "outputs": [],
   "source": [
    "N_data = sum(1 for _ in ds)\n",
    "N_test = int(N_data*0.1)\n",
    "N_val = int(N_data*0.1)\n",
    "N_train = N_data - N_val - N_test\n",
    "\n",
    "print(f'Total number of samples: {N_data}')\n",
    "print(f'  Train: {N_train}')\n",
    "print(f'  Validation: {N_val}')\n",
    "print(f'  Test: {N_test}')"
   ]
  },
  {
   "cell_type": "code",
   "execution_count": null,
   "metadata": {},
   "outputs": [],
   "source": [
    "test_ds = ds.take(N_test)\n",
    "train_ds = ds.skip(N_test)\n",
    "val_ds = train_ds.take(N_val)\n",
    "train_ds = train_ds.skip(N_val)"
   ]
  },
  {
   "source": [
    "### Data Augmentation and Preprocessing"
   ],
   "cell_type": "markdown",
   "metadata": {}
  },
  {
   "cell_type": "code",
   "execution_count": null,
   "metadata": {},
   "outputs": [],
   "source": [
    "def preprocess(image, label):\n",
    "    return tf.keras.applications.mobilenet_v2.preprocess_input(image), label\n",
    "\n",
    "def unpreprocess(image, label=None):\n",
    "    image = tf.cast((0.5*image+0.5)*255, tf.uint8)\n",
    "    if label is None:\n",
    "        return image\n",
    "    else:\n",
    "        return image, label"
   ]
  },
  {
   "cell_type": "code",
   "execution_count": null,
   "metadata": {},
   "outputs": [],
   "source": [
    "train_transforms = [\n",
    "    pneumo.augmentations.random_crop((IMAGE_SIZE,IMAGE_SIZE)),\n",
    "    pneumo.augmentations.random_intensity(5),\n",
    "    pneumo.augmentations.random_noise(1),\n",
    "    preprocess\n",
    "]\n",
    "test_transforms = [\n",
    "    pneumo.augmentations.random_crop((IMAGE_SIZE,IMAGE_SIZE)),\n",
    "    preprocess\n",
    "]"
   ]
  },
  {
   "cell_type": "code",
   "execution_count": null,
   "metadata": {},
   "outputs": [],
   "source": [
    "for transform in train_transforms:\n",
    "    train_ds = train_ds.map(transform)\n",
    "for transform in test_transforms:\n",
    "    val_ds = val_ds.map(transform)\n",
    "    test_ds = test_ds.map(transform)\n",
    "\n",
    "train_ds = train_ds.shuffle(512).repeat().batch(BATCH_SIZE).prefetch(1)\n",
    "val_ds = val_ds.batch(BATCH_SIZE)\n",
    "test_ds = test_ds.batch(BATCH_SIZE)"
   ]
  },
  {
   "cell_type": "code",
   "execution_count": null,
   "metadata": {},
   "outputs": [],
   "source": [
    "for image, mask in train_ds.take(1):\n",
    "    pneumo.display(\n",
    "        [image[0], mask[0]],\n",
    "        ['image', 'mask'],\n",
    "        ['gray', 'gray']\n",
    "    )"
   ]
  },
  {
   "source": [],
   "cell_type": "markdown",
   "metadata": {}
  },
  {
   "source": [
    "### Build and compile U-Net"
   ],
   "cell_type": "markdown",
   "metadata": {}
  },
  {
   "cell_type": "code",
   "execution_count": null,
   "metadata": {},
   "outputs": [],
   "source": [
    "model = pneumo.models.UNet()\n",
    "model.compile(optimizer=tf.keras.optimizers.Adam(learning_rate=0.001),\n",
    "              loss=pneumo.losses.combined_loss(1,4,3),\n",
    "              metrics=[pneumo.metrics.dice])"
   ]
  },
  {
   "cell_type": "code",
   "execution_count": null,
   "metadata": {},
   "outputs": [],
   "source": [
    "# code modified from https://www.tensorflow.org/tutorials/images/segmentation\n",
    "\n",
    "def create_mask(pred_mask):\n",
    "    pred_mask = tf.nn.sigmoid(pred_mask) > 0.5\n",
    "    pred_mask = tf.cast(pred_mask, tf.int32)\n",
    "    return pred_mask\n",
    "\n",
    "def show_predictions(dataset=None, num=1):\n",
    "    if dataset:\n",
    "        for image, mask in dataset.take(num):\n",
    "            pred_mask = model.predict(image)\n",
    "            pnemo.display(\n",
    "                [image[0], mask[0], tf.nn.sigmoid(pred_mask[0]), create_mask(pred_mask[0])],\n",
    "                ['Input Image', 'True Mask', 'Heat Map', 'Predicted Mask'],\n",
    "                [None, 'gray', 'inferno', 'gray']\n",
    "            )\n",
    "    else:\n",
    "        for image, mask in val_ds.take(num):\n",
    "            pred_mask = model.predict(image)\n",
    "            pneumo.display(\n",
    "                [image[0], mask[0], tf.nn.sigmoid(pred_mask[0]), create_mask(pred_mask[0])],\n",
    "                ['Input Image', 'True Mask', 'Heat Map', 'Predicted Mask'],\n",
    "                [None, 'gray', 'inferno', 'gray']\n",
    "            )\n",
    "\n",
    "class CustomCallback(tf.keras.callbacks.Callback):\n",
    "    def on_epoch_end(self, epoch, logs=None):\n",
    "        clear_output(wait=True)\n",
    "        show_predictions()\n",
    "        lr = float(tf.keras.backend.get_value(self.model.optimizer.learning_rate))\n",
    "        scheduled_lr = lr*0.95\n",
    "        tf.keras.backend.set_value(self.model.optimizer.lr, scheduled_lr)\n",
    "        print ('\\nSample Prediction after epoch {}'.format(epoch+1))\n",
    "        print('Learning rate: {}\\n'.format(scheduled_lr))"
   ]
  },
  {
   "cell_type": "code",
   "execution_count": null,
   "metadata": {},
   "outputs": [],
   "source": [
    "show_predictions()"
   ]
  },
  {
   "source": [
    "### Train Model"
   ],
   "cell_type": "markdown",
   "metadata": {}
  },
  {
   "cell_type": "code",
   "execution_count": null,
   "metadata": {},
   "outputs": [],
   "source": [
    "EPOCHS = 50\n",
    "VALIDATION_STEPS = N_train\n",
    "\n",
    "model_history = model.fit(\n",
    "    train_ds,\n",
    "    epochs=EPOCHS,\n",
    "    steps_per_epoch=VALIDATION_STEPS,\n",
    "    callbacks=[CustomCallback()],\n",
    "    validation_steps=VALIDATION_STEPS,\n",
    "    validation_data=val_ds,\n",
    ")"
   ]
  },
  {
   "cell_type": "code",
   "execution_count": null,
   "metadata": {},
   "outputs": [],
   "source": [
    "model.save('mymodel')"
   ]
  },
  {
   "source": [
    "### Model Load and Test on a Sample Query"
   ],
   "cell_type": "markdown",
   "metadata": {}
  },
  {
   "cell_type": "code",
   "execution_count": null,
   "metadata": {},
   "outputs": [],
   "source": [
    "del model\n",
    "model = tf.keras.models.load_model(\"mymodel\", custom_objects={'dice':dice, 'loss':loss})\n",
    "show_predictions()"
   ]
  },
  {
   "cell_type": "code",
   "execution_count": null,
   "metadata": {},
   "outputs": [],
   "source": [
    "uifiles = list(Path('data/ui').glob('*.dcm'))\n",
    "dcm = dcmread(str(uifiles[0]))\n",
    "image = dcm.pixel_array/4095*255   # sample image has pixel values ranging between 0 and 4095\n",
    "pneumo.display(image)"
   ]
  },
  {
   "cell_type": "code",
   "execution_count": null,
   "metadata": {},
   "outputs": [],
   "source": [
    "resized = tf.image.resize(np.expand_dims(image,-1), (IMAGE_SIZE, IMAGE_SIZE))\n",
    "resized = tf.image.grayscale_to_rgb(resized)\n",
    "resized = tf.keras.applications.mobilenet_v2.preprocess_input(resized)\n",
    "resized.shape"
   ]
  },
  {
   "cell_type": "code",
   "execution_count": null,
   "metadata": {},
   "outputs": [],
   "source": [
    "predicted = model.predict(tf.expand_dims(resized,0))"
   ]
  },
  {
   "cell_type": "code",
   "execution_count": null,
   "metadata": {},
   "outputs": [],
   "source": [
    "import matplotlib.pyplot as plt\n",
    "plt.imshow((resized*0.5+0.5), cmap='gray')\n",
    "plt.imshow(tf.sigmoid(predicted[0]), cmap='inferno', alpha=0.3)"
   ]
  }
 ],
 "metadata": {
  "@webio": {
   "lastCommId": null,
   "lastKernelId": null
  },
  "kernelspec": {
   "name": "python3",
   "display_name": "Python 3",
   "language": "python"
  },
  "language_info": {
   "codemirror_mode": {
    "name": "ipython",
    "version": 3
   },
   "file_extension": ".py",
   "mimetype": "text/x-python",
   "name": "python",
   "nbconvert_exporter": "python",
   "pygments_lexer": "ipython3",
   "version": "3.8.8-final"
  }
 },
 "nbformat": 4,
 "nbformat_minor": 2
}